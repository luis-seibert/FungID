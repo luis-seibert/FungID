{
 "cells": [
  {
   "cell_type": "markdown",
   "id": "dd8c2dbe",
   "metadata": {},
   "source": [
    "# Dataset Preparation\n",
    "\n",
    "This script splits the acquired mushroom image dataset into training, validation, and test datasets for neural network model development.\n",
    "\n",
    "After acquiring the images from [MushroomObserver](https://mushroomobserver.org/articles/20), the data needs to be properly divided to ensure reliable model evaluation. This script creates a stratified split where each species is represented in all three sets according to the specified ratios.\n",
    "\n",
    "## Dataset Split Configuration\n",
    "\n",
    "The default split configuration follows standard machine learning practices:\n",
    "\n",
    "- **Training set**: 70% - Used to train the model\n",
    "- **Validation set**: 15% - Used for hyperparameter tuning and model selection  \n",
    "- **Test set**: 15% - Used for final model evaluation\n",
    "\n",
    "The script processes each species directory separately and generates CSV files containing the image paths and corresponding binary labels for each image. This format ensures easy data loading during model training and evaluation.\n",
    "\n",
    "## Binary Classification Setup\n",
    "\n",
    "The dataset is configured for binary classification with one species designated as the positive class (label 1) and all others as negative class (label 0). This approach is particularly useful for identifying specific mushroom species versus all others.\n",
    "\n",
    "### Output files\n",
    "\n",
    "The split process generates three CSV files in the `data/` directory:\n",
    "\n",
    "- `training_split.csv`: Contains training images with their labels\n",
    "- `validation_split.csv`: Contains validation images with their labels  \n",
    "- `testing_split.csv`: Contains test images with their labels\n",
    "\n",
    "Each CSV file contains columns: `species_name`, `image_path`, and `label_id`"
   ]
  },
  {
   "cell_type": "code",
   "execution_count": null,
   "id": "91756690",
   "metadata": {},
   "outputs": [
    {
     "name": "stderr",
     "output_type": "stream",
     "text": [
      "2025-07-17 17:30:28,164 - INFO - Processed Tylopilus felleus: 420 train, 90 val, 91 test images (label_id: 1)\n"
     ]
    },
    {
     "name": "stderr",
     "output_type": "stream",
     "text": [
      "2025-07-17 17:30:28,175 - INFO - Processed Boletus edulis: 415 train, 88 val, 90 test images (label_id: 0)\n",
      "2025-07-17 17:30:28,178 - INFO - Processed Imleria badia: 151 train, 32 val, 34 test images (label_id: 0)\n",
      "2025-07-17 17:30:28,178 - INFO - Dataset created with Tylopilus felleus as positive class (randomized 3-way split)\n",
      "2025-07-17 17:30:28,179 - INFO - Split ratios: Train 70%, Val 15%, Test 15%\n"
     ]
    }
   ],
   "source": [
    "import os\n",
    "\n",
    "from utils.dataset_preparation import split_dataset\n",
    "\n",
    "# Configuration parameters\n",
    "DATA_PATH = os.path.join(\"data\", \"images\")\n",
    "TRAINING_IDS_PATH = os.path.join(\"data\", \"training_split.csv\")\n",
    "VALIDATION_IDS_PATH = os.path.join(\"data\", \"validation_split.csv\")\n",
    "TESTING_IDS_PATH = os.path.join(\"data\", \"testing_split.csv\")\n",
    "\n",
    "TRAINING_SPLIT_RATIO = 0.7\n",
    "VALIDATION_SPLIT_RATIO = 0.15\n",
    "TESTING_SPLIT_RATIO = 0.15  # Unused, but kept for clarity\n",
    "\n",
    "POSITIVE_CLASS = \"Tylopilus felleus\"  # Species to be labeled as positive (1)\n",
    "\n",
    "split_dataset(\n",
    "    data_path=DATA_PATH,\n",
    "    training_ids_path=TRAINING_IDS_PATH,\n",
    "    validation_ids_path=VALIDATION_IDS_PATH,\n",
    "    testing_ids_path=TESTING_IDS_PATH,\n",
    "    training_split_ratio=TRAINING_SPLIT_RATIO,\n",
    "    validation_split_ratio=VALIDATION_SPLIT_RATIO,\n",
    "    positive_class=POSITIVE_CLASS,\n",
    "    random_seed=0,\n",
    ")"
   ]
  }
 ],
 "metadata": {
  "kernelspec": {
   "display_name": ".venv",
   "language": "python",
   "name": "python3"
  },
  "language_info": {
   "codemirror_mode": {
    "name": "ipython",
    "version": 3
   },
   "file_extension": ".py",
   "mimetype": "text/x-python",
   "name": "python",
   "nbconvert_exporter": "python",
   "pygments_lexer": "ipython3",
   "version": "3.12.11"
  }
 },
 "nbformat": 4,
 "nbformat_minor": 5
}
