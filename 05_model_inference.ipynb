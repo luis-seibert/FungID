{
 "cells": [
  {
   "cell_type": "markdown",
   "id": "dd2fe0ec",
   "metadata": {},
   "source": [
    "# Mushroom Classification Inference\n",
    "\n",
    "Simple inference interface for classifying mushroom images using trained ResNet18 model.\n",
    "\n",
    "**Classes:**\n",
    "- 0: Non-bitter boletes (edible)\n",
    "- 1: Bitter bolete (unpalatable)"
   ]
  },
  {
   "cell_type": "markdown",
   "id": "9ab2557c",
   "metadata": {},
   "source": [
    "## Setup and Configuration\n",
    "\n",
    "In this step, the inference environment is configured by specifying the trained model path and initializing the interactive file chooser widget.\n",
    "Use the widget below to browse and select an image file for classification."
   ]
  },
  {
   "cell_type": "code",
   "execution_count": null,
   "id": "38c72cd1",
   "metadata": {},
   "outputs": [],
   "source": [
    "from utils.model_inference import image_classification\n",
    "from ipyfilechooser import FileChooser\n",
    "from IPython.display import display\n",
    "import os\n",
    "\n",
    "model_path = \"checkpoints/ResNet18_best_model.pth\"\n",
    "model_name = \"ResNet18\"\n",
    "number_classes = 2\n",
    "class_labels = {0: \"Non-bitter Bolete (Edible)\", 1: \"Bitter Bolete (Unpalatable)\"}\n",
    "\n",
    "# Run interactive image selection\n",
    "fc = FileChooser(os.getcwd())\n",
    "display(fc)"
   ]
  },
  {
   "cell_type": "markdown",
   "id": "f832e9a7",
   "metadata": {},
   "source": [
    "## Classification of selected image"
   ]
  },
  {
   "cell_type": "code",
   "execution_count": null,
   "id": "63bc56fd",
   "metadata": {},
   "outputs": [],
   "source": [
    "classification_result = image_classification(\n",
    "    fc.selected,\n",
    "    model_path,\n",
    "    model_name,\n",
    "    number_classes,\n",
    "    class_labels\n",
    ")\n",
    "\n",
    "if classification_result is None:\n",
    "    raise ValueError(\"Classification result is None. Please check the model and image path.\")\n",
    "\n",
    "print(f\"Image: {classification_result['filename']}\")\n",
    "print(f\"Prediction: {classification_result['class_name']}\")\n",
    "print(f\"Confidence: {classification_result['confidence']:.1%}\")\n",
    "print(f\"Bitter bolete: {'YES' if classification_result['is_bitter'] else 'NO'}\")"
   ]
  }
 ],
 "metadata": {
  "kernelspec": {
   "display_name": ".venv",
   "language": "python",
   "name": "python3"
  },
  "language_info": {
   "codemirror_mode": {
    "name": "ipython",
    "version": 3
   },
   "file_extension": ".py",
   "mimetype": "text/x-python",
   "name": "python",
   "nbconvert_exporter": "python",
   "pygments_lexer": "ipython3",
   "version": "3.12.11"
  }
 },
 "nbformat": 4,
 "nbformat_minor": 5
}
